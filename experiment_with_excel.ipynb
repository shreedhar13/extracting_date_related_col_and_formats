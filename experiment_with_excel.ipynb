{
 "cells": [
  {
   "cell_type": "markdown",
   "id": "c8133ee7",
   "metadata": {},
   "source": [
    "#### Problem\n",
    "- you are giving dataframe where date related column (DOJ) are represented in object or string type and some cells are in that column are of actual date data_type, thats why after the redaction process only those cell type values are misformatted ie; to yyyy-mm-dd, and this is hard-core behavior of pandas, you are not able to chnage it.\n",
    "- if you chnage the formatting (strftime()) then those values are follow that formatting but data type of those value is str or object or general,,,and if you typecast them into datetime data_type (pd.to_datetime) then again those values are converted to yyyy-mm-dd,,you cant do anything here,,bcz this is hardcore behavior of pandas funtions\n",
    "\n",
    "#### Solution\n",
    "- capture the date format for each **\"date data_type\"** related column while loading and capture the date formatting for       **\"date related\"** column(column with date values in it but data_type is str(in python) or object(in python) or general(in excel)).\n",
    "- because when you load excel file into pandas dataframe then date type columns and values are formatted to to YYYY-MM-DD, and which is hardcore behavior,,you cant do anything here()ie;cant cahnge date time formatting...bro strftime() will convert date type values to str in user specified format,,,but it is str,,,if try to make it again date type then again formatting is yyyy-mm-dd only..\n",
    "- use strftime(df[col], captured_format_wrt_col) to convert date values to str w.r.t captured or specified formats,,but it is in str\n",
    "- now you cant perform any date time related operation on these column,,bcz they become str or object type,,,if you want to do so then again convert them to date type but you lose formatting.\n",
    "- formatting is just for representation or displaying value is user required manner.\n",
    "- now you can pass this dataframe which contains all date related column as object type,,and this after redaction formatting is not going to chnaged,,bcz those are treated as str/object....\n",
    "- thus you will retain formatting,,and you can export this dataframe to excel.\n",
    "- dont convert these column again to date tyoe (pd.to_datetime()),,,otherwise formatting is going to chnage to y-m-d again"
   ]
  },
  {
   "cell_type": "code",
   "execution_count": 1,
   "id": "70717638",
   "metadata": {},
   "outputs": [],
   "source": [
    "from openpyxl import load_workbook\n",
    "from datetime import datetime\n",
    "import pandas as pd\n",
    "import re"
   ]
  },
  {
   "cell_type": "markdown",
   "id": "01b247ea",
   "metadata": {},
   "source": [
    "# 1) Reading excel file using openpyxl"
   ]
  },
  {
   "cell_type": "code",
   "execution_count": 7,
   "id": "ab456570",
   "metadata": {},
   "outputs": [
    {
     "name": "stdout",
     "output_type": "stream",
     "text": [
      "Date columns and their formats: {'Ord ID': None, 'customer name': None, 'Purchase Date': None, 'Amount': None, 'Return Date': None, 'DoJ': None, 'doB': None, 'ord_date': None, 'Date': None, 'i am daTE shreedhar': None, 'dates': None, \"date's\": None, 'date1': None, 'date_with_date_type': 'yyyy\\\\-mm\\\\-dd\\\\ hh:mm:ss', 'date_with_date_type_2': None, 'temp_dates': 'mm-dd-yy', 'temp_dates_2': None, 'temp_dates_3': '[$-F800]dddd\\\\,\\\\ mmmm\\\\ dd\\\\,\\\\ yyyy', 'temp_dates_4': None, 'temp_date_5': '[$-14009]dd/mm/yyyy;@', '6_temp_date': 'mm-dd-yy'}\n"
     ]
    }
   ],
   "source": [
    "# Load the workbook and select the worksheet\n",
    "file_path = 'data.xlsx'\n",
    "wb = load_workbook(file_path, data_only=True)\n",
    "ws = wb.active\n",
    "\n",
    "# Create an empty dictionary to hold the data\n",
    "data = {}\n",
    "\n",
    "# Fetch the headers\n",
    "for cell in ws[1]:\n",
    "    data[cell.value] = []\n",
    "\n",
    "# Initialize a dictionary to store date formats for columns\n",
    "date_formats = {}\n",
    "\n",
    "\n",
    "\n",
    "# Iterate over columns to find the first non-null value in each\n",
    "for col in ws.iter_cols(min_row=2, values_only=False):\n",
    "   \n",
    "    header = ws.cell(row=1, column=col[0].column).value  # Get the column header\n",
    "    for cell in col:\n",
    "        if cell.value is not None:  # Check for the first non-null cell\n",
    "            if cell.is_date:\n",
    "                date_formats[header] = cell.number_format  # Store date format\n",
    "            else:\n",
    "                date_formats[header] = None  # No special format for non-date columns\n",
    "            break  # Stop after finding the first non-null value\n",
    "\n",
    "# Fetch the data for all rows without applying formats to the DataFrame\n",
    "for row in ws.iter_rows(min_row=2, values_only=False):\n",
    "    for cell in row:\n",
    "        header = ws.cell(row=1, column=cell.column).value\n",
    "        data[header].append(cell.value)\n",
    "\n",
    "# Convert the dictionary to a pandas DataFrame (without storing formats)\n",
    "df = pd.DataFrame(data)\n",
    "\n",
    "# Print the date formats stored in the dictionary\n",
    "print(\"Date columns and their formats:\", date_formats)\n"
   ]
  },
  {
   "cell_type": "code",
   "execution_count": 8,
   "id": "d5fcecf9",
   "metadata": {},
   "outputs": [
    {
     "data": {
      "text/plain": [
       "{'Ord ID': None,\n",
       " 'customer name': None,\n",
       " 'Purchase Date': None,\n",
       " 'Amount': None,\n",
       " 'Return Date': None,\n",
       " 'DoJ': None,\n",
       " 'doB': None,\n",
       " 'ord_date': None,\n",
       " 'Date': None,\n",
       " 'i am daTE shreedhar': None,\n",
       " 'dates': None,\n",
       " \"date's\": None,\n",
       " 'date1': None,\n",
       " 'date_with_date_type': 'yyyy\\\\-mm\\\\-dd\\\\ hh:mm:ss',\n",
       " 'date_with_date_type_2': None,\n",
       " 'temp_dates': 'mm-dd-yy',\n",
       " 'temp_dates_2': None,\n",
       " 'temp_dates_3': '[$-F800]dddd\\\\,\\\\ mmmm\\\\ dd\\\\,\\\\ yyyy',\n",
       " 'temp_dates_4': None,\n",
       " 'temp_date_5': '[$-14009]dd/mm/yyyy;@',\n",
       " '6_temp_date': 'mm-dd-yy'}"
      ]
     },
     "execution_count": 8,
     "metadata": {},
     "output_type": "execute_result"
    }
   ],
   "source": [
    "date_formats"
   ]
  },
  {
   "cell_type": "code",
   "execution_count": 12,
   "id": "bab1fef4",
   "metadata": {},
   "outputs": [],
   "source": [
    "date_type_columns=dict()"
   ]
  },
  {
   "cell_type": "code",
   "execution_count": 13,
   "id": "9fc4e442",
   "metadata": {},
   "outputs": [
    {
     "data": {
      "text/plain": [
       "{'date_with_date_type': 'yyyy\\\\-mm\\\\-dd\\\\ hh:mm:ss',\n",
       " 'temp_dates': 'mm-dd-yy',\n",
       " 'temp_dates_3': '[$-F800]dddd\\\\,\\\\ mmmm\\\\ dd\\\\,\\\\ yyyy',\n",
       " 'temp_date_5': '[$-14009]dd/mm/yyyy;@',\n",
       " '6_temp_date': 'mm-dd-yy'}"
      ]
     },
     "execution_count": 13,
     "metadata": {},
     "output_type": "execute_result"
    }
   ],
   "source": [
    "for col, formats in date_formats.items():\n",
    "    if formats != None:\n",
    "        date_type_columns[col] = formats\n",
    "date_type_columns"
   ]
  },
  {
   "cell_type": "code",
   "execution_count": 14,
   "id": "f1fa9dcc",
   "metadata": {},
   "outputs": [
    {
     "data": {
      "text/plain": [
       "['date_with_date_type',\n",
       " 'temp_dates',\n",
       " 'temp_dates_3',\n",
       " 'temp_date_5',\n",
       " '6_temp_date']"
      ]
     },
     "execution_count": 14,
     "metadata": {},
     "output_type": "execute_result"
    }
   ],
   "source": [
    "date_data_type_columns = list(date_type_columns.keys())\n",
    "date_data_type_columns"
   ]
  },
  {
   "cell_type": "code",
   "execution_count": 15,
   "id": "4b25ad4c",
   "metadata": {},
   "outputs": [
    {
     "data": {
      "text/html": [
       "<div>\n",
       "<style scoped>\n",
       "    .dataframe tbody tr th:only-of-type {\n",
       "        vertical-align: middle;\n",
       "    }\n",
       "\n",
       "    .dataframe tbody tr th {\n",
       "        vertical-align: top;\n",
       "    }\n",
       "\n",
       "    .dataframe thead th {\n",
       "        text-align: right;\n",
       "    }\n",
       "</style>\n",
       "<table border=\"1\" class=\"dataframe\">\n",
       "  <thead>\n",
       "    <tr style=\"text-align: right;\">\n",
       "      <th></th>\n",
       "      <th>Ord ID</th>\n",
       "      <th>customer name</th>\n",
       "      <th>Purchase Date</th>\n",
       "      <th>Amount</th>\n",
       "      <th>Return Date</th>\n",
       "      <th>DoJ</th>\n",
       "      <th>doB</th>\n",
       "      <th>ord_date</th>\n",
       "      <th>Date</th>\n",
       "      <th>i am daTE shreedhar</th>\n",
       "      <th>...</th>\n",
       "      <th>date_with_date_type</th>\n",
       "      <th>date_with_date_type_2</th>\n",
       "      <th>x-y_z-date</th>\n",
       "      <th>my_x-y-date-is</th>\n",
       "      <th>temp_dates</th>\n",
       "      <th>temp_dates_2</th>\n",
       "      <th>temp_dates_3</th>\n",
       "      <th>temp_dates_4</th>\n",
       "      <th>temp_date_5</th>\n",
       "      <th>6_temp_date</th>\n",
       "    </tr>\n",
       "  </thead>\n",
       "  <tbody>\n",
       "    <tr>\n",
       "      <th>0</th>\n",
       "      <td>1</td>\n",
       "      <td>jay</td>\n",
       "      <td>14-10-2021</td>\n",
       "      <td>100</td>\n",
       "      <td>2022-13-12</td>\n",
       "      <td>2015-10-13</td>\n",
       "      <td>13-10-2002</td>\n",
       "      <td>1-13-2020</td>\n",
       "      <td>1-1-2020</td>\n",
       "      <td>1-1-2020</td>\n",
       "      <td>...</td>\n",
       "      <td>2024-09-13 12:28:36.614</td>\n",
       "      <td>2024-09-13 12:28:36.614943</td>\n",
       "      <td>None</td>\n",
       "      <td>None</td>\n",
       "      <td>2024-12-13</td>\n",
       "      <td>12-13-2024</td>\n",
       "      <td>2024-12-13</td>\n",
       "      <td>12-13-2024 12:28:37</td>\n",
       "      <td>2002-10-13</td>\n",
       "      <td>2002-10-13</td>\n",
       "    </tr>\n",
       "    <tr>\n",
       "      <th>1</th>\n",
       "      <td>2</td>\n",
       "      <td>shree</td>\n",
       "      <td>13-2-2020</td>\n",
       "      <td>200</td>\n",
       "      <td>2021-10-11</td>\n",
       "      <td>2016-10-14</td>\n",
       "      <td>14-10-2002</td>\n",
       "      <td>12-10-2020</td>\n",
       "      <td>2-1-2020</td>\n",
       "      <td>None</td>\n",
       "      <td>...</td>\n",
       "      <td>2024-09-14 12:28:36.614</td>\n",
       "      <td>2024-09-14 12:28:36.614943</td>\n",
       "      <td>None</td>\n",
       "      <td>None</td>\n",
       "      <td>2024-12-14</td>\n",
       "      <td>12-13-2024</td>\n",
       "      <td>2024-12-14</td>\n",
       "      <td>12-13-2024 12:28:38</td>\n",
       "      <td>2002-10-14</td>\n",
       "      <td>2002-10-14</td>\n",
       "    </tr>\n",
       "    <tr>\n",
       "      <th>2</th>\n",
       "      <td>3</td>\n",
       "      <td>ram</td>\n",
       "      <td>1-10-2019</td>\n",
       "      <td>300</td>\n",
       "      <td>2020-1-1</td>\n",
       "      <td>2017-10-16</td>\n",
       "      <td>17-10-2002</td>\n",
       "      <td>5-10-2021</td>\n",
       "      <td>3-10-2020</td>\n",
       "      <td>2-1-2020</td>\n",
       "      <td>...</td>\n",
       "      <td>2024-09-15 12:28:36.614</td>\n",
       "      <td>2024-09-15 12:28:36.614943</td>\n",
       "      <td>None</td>\n",
       "      <td>None</td>\n",
       "      <td>2024-12-15</td>\n",
       "      <td>12-13-2024</td>\n",
       "      <td>2024-12-15</td>\n",
       "      <td>12-13-2024 12:28:39</td>\n",
       "      <td>2002-10-15</td>\n",
       "      <td>2002-10-15</td>\n",
       "    </tr>\n",
       "  </tbody>\n",
       "</table>\n",
       "<p>3 rows × 24 columns</p>\n",
       "</div>"
      ],
      "text/plain": [
       "   Ord ID customer name Purchase Date  Amount Return Date         DoJ  \\\n",
       "0       1           jay    14-10-2021     100  2022-13-12  2015-10-13   \n",
       "1       2         shree     13-2-2020     200  2021-10-11  2016-10-14   \n",
       "2       3           ram     1-10-2019     300    2020-1-1  2017-10-16   \n",
       "\n",
       "          doB    ord_date       Date i am daTE shreedhar  ...  \\\n",
       "0  13-10-2002   1-13-2020   1-1-2020            1-1-2020  ...   \n",
       "1  14-10-2002  12-10-2020   2-1-2020                None  ...   \n",
       "2  17-10-2002   5-10-2021  3-10-2020            2-1-2020  ...   \n",
       "\n",
       "      date_with_date_type       date_with_date_type_2 x-y_z-date  \\\n",
       "0 2024-09-13 12:28:36.614  2024-09-13 12:28:36.614943       None   \n",
       "1 2024-09-14 12:28:36.614  2024-09-14 12:28:36.614943       None   \n",
       "2 2024-09-15 12:28:36.614  2024-09-15 12:28:36.614943       None   \n",
       "\n",
       "  my_x-y-date-is temp_dates temp_dates_2 temp_dates_3         temp_dates_4  \\\n",
       "0           None 2024-12-13   12-13-2024   2024-12-13  12-13-2024 12:28:37   \n",
       "1           None 2024-12-14   12-13-2024   2024-12-14  12-13-2024 12:28:38   \n",
       "2           None 2024-12-15   12-13-2024   2024-12-15  12-13-2024 12:28:39   \n",
       "\n",
       "  temp_date_5 6_temp_date  \n",
       "0  2002-10-13  2002-10-13  \n",
       "1  2002-10-14  2002-10-14  \n",
       "2  2002-10-15  2002-10-15  \n",
       "\n",
       "[3 rows x 24 columns]"
      ]
     },
     "execution_count": 15,
     "metadata": {},
     "output_type": "execute_result"
    }
   ],
   "source": [
    "df"
   ]
  },
  {
   "cell_type": "code",
   "execution_count": 16,
   "id": "41cbd854",
   "metadata": {},
   "outputs": [
    {
     "data": {
      "text/plain": [
       "Ord ID                            int64\n",
       "customer name                    object\n",
       "Purchase Date                    object\n",
       "Amount                            int64\n",
       "Return Date                      object\n",
       "DoJ                              object\n",
       "doB                              object\n",
       "ord_date                         object\n",
       "Date                             object\n",
       "i am daTE shreedhar              object\n",
       "dates                            object\n",
       "date's                           object\n",
       "date1                            object\n",
       "date_1                           object\n",
       "date_with_date_type      datetime64[ns]\n",
       "date_with_date_type_2            object\n",
       "x-y_z-date                       object\n",
       "my_x-y-date-is                   object\n",
       "temp_dates               datetime64[ns]\n",
       "temp_dates_2                     object\n",
       "temp_dates_3             datetime64[ns]\n",
       "temp_dates_4                     object\n",
       "temp_date_5              datetime64[ns]\n",
       "6_temp_date              datetime64[ns]\n",
       "dtype: object"
      ]
     },
     "execution_count": 16,
     "metadata": {},
     "output_type": "execute_result"
    }
   ],
   "source": [
    "df.dtypes\n",
    "# ⭐\n",
    "#Reading all column w.r.t there data type,,,,not reading them as object or string and other columns are read as object or string"
   ]
  },
  {
   "cell_type": "markdown",
   "id": "854c43fd",
   "metadata": {},
   "source": [
    "# 2) Extract date related columns"
   ]
  },
  {
   "cell_type": "code",
   "execution_count": 17,
   "id": "95d30bff",
   "metadata": {},
   "outputs": [],
   "source": [
    "#Changed\n",
    "date_column_pattern = r\"(?i)\\b.*(?:date|do[a-z]+|d[_-]o[_-][a-z]+).*\\b\" \n",
    "\n",
    "#takes in account all 'Do' related abbrevations like- DoB, DoJ, DoR (date of registration),DoS (date of subscription)...etc,,,,, case insensitive"
   ]
  },
  {
   "cell_type": "code",
   "execution_count": 18,
   "id": "5e87a98d",
   "metadata": {
    "scrolled": true
   },
   "outputs": [
    {
     "data": {
      "text/plain": [
       "Index(['Ord ID', 'customer name', 'Purchase Date', 'Amount', 'Return Date',\n",
       "       'DoJ', 'doB', 'ord_date', 'Date', 'i am daTE shreedhar', 'dates',\n",
       "       'date's', 'date1', 'date_1', 'date_with_date_type',\n",
       "       'date_with_date_type_2', 'x-y_z-date', 'my_x-y-date-is', 'temp_dates',\n",
       "       'temp_dates_2', 'temp_dates_3', 'temp_dates_4', 'temp_date_5',\n",
       "       '6_temp_date'],\n",
       "      dtype='object')"
      ]
     },
     "execution_count": 18,
     "metadata": {},
     "output_type": "execute_result"
    }
   ],
   "source": [
    "columns = df.columns\n",
    "columns"
   ]
  },
  {
   "cell_type": "code",
   "execution_count": 19,
   "id": "9e609995",
   "metadata": {},
   "outputs": [
    {
     "data": {
      "text/plain": [
       "['Purchase Date',\n",
       " 'Return Date',\n",
       " 'DoJ',\n",
       " 'doB',\n",
       " 'ord_date',\n",
       " 'Date',\n",
       " 'i am daTE shreedhar',\n",
       " 'dates',\n",
       " \"date's\",\n",
       " 'date1',\n",
       " 'date_1',\n",
       " 'date_with_date_type',\n",
       " 'date_with_date_type_2',\n",
       " 'x-y_z-date',\n",
       " 'my_x-y-date-is',\n",
       " 'temp_dates',\n",
       " 'temp_dates_2',\n",
       " 'temp_dates_3',\n",
       " 'temp_dates_4',\n",
       " 'temp_date_5',\n",
       " '6_temp_date']"
      ]
     },
     "execution_count": 19,
     "metadata": {},
     "output_type": "execute_result"
    }
   ],
   "source": [
    "all_date_columns = [col for col in columns if re.search(date_column_pattern, col)]\n",
    "all_date_columns"
   ]
  },
  {
   "cell_type": "markdown",
   "id": "8a060e81",
   "metadata": {},
   "source": [
    "# 3) Convert all date data_type columns to there actual or original format and typecast them to object or string.....strptime() will do these 3 task for you"
   ]
  },
  {
   "cell_type": "markdown",
   "id": "9a451d1f",
   "metadata": {},
   "source": [
    "- %y means only 2 digit are their. eg: 13-10-02, 14-10-24, 13-10-23..etc,,,here 02, 24 and 23 is year\n",
    "- %Y means 4didgit in year. eg: 13-10-2002, 14-10-2024\n",
    "- include all possible date format, and also include date which are represented with slash eg: 13/10/2002"
   ]
  },
  {
   "cell_type": "code",
   "execution_count": 20,
   "id": "42ac19ae",
   "metadata": {},
   "outputs": [],
   "source": [
    "format_mapping = {\n",
    "        \"yyyy\\-mm\\-dd\\ hh:mm:ss\": \"%Y-%m-%d %H:%M:%S\",\n",
    "        \"mm-dd-yy\": \"%m-%d-%y\",\n",
    "        \"mm-dd-yyyy\": \"%m-%d-%Y\",\n",
    "        \"[$-F800]dddd\\,\\ mmmm\\ dd\\,\\ yyyy\": \"%A, %B %d, %Y\",\n",
    "        \"dd-mm-yyyy\": \"%d-%m-%Y\",\n",
    "        '[$-14009]dd/mm/yyyy;@': '%d-%m-%Y',\n",
    "    }"
   ]
  },
  {
   "cell_type": "code",
   "execution_count": 21,
   "id": "73fa435b",
   "metadata": {},
   "outputs": [],
   "source": [
    "for col, formats in date_type_columns.items():\n",
    "    df[col] = df[col].dt.strftime(format_mapping[formats])\n",
    "#Note dt.strptime will return string,,,,,,,,,,,if you use pd.to_date() to convert columns to date type,,then you lose the formatting again..\n",
    "#but while storing or exporting the file you need this string only to retain original format,,otherwise pandas will export the date type column in y-m-d format only."
   ]
  },
  {
   "cell_type": "code",
   "execution_count": 22,
   "id": "d0aaafa2",
   "metadata": {},
   "outputs": [
    {
     "data": {
      "text/html": [
       "<div>\n",
       "<style scoped>\n",
       "    .dataframe tbody tr th:only-of-type {\n",
       "        vertical-align: middle;\n",
       "    }\n",
       "\n",
       "    .dataframe tbody tr th {\n",
       "        vertical-align: top;\n",
       "    }\n",
       "\n",
       "    .dataframe thead th {\n",
       "        text-align: right;\n",
       "    }\n",
       "</style>\n",
       "<table border=\"1\" class=\"dataframe\">\n",
       "  <thead>\n",
       "    <tr style=\"text-align: right;\">\n",
       "      <th></th>\n",
       "      <th>Ord ID</th>\n",
       "      <th>customer name</th>\n",
       "      <th>Purchase Date</th>\n",
       "      <th>Amount</th>\n",
       "      <th>Return Date</th>\n",
       "      <th>DoJ</th>\n",
       "      <th>doB</th>\n",
       "      <th>ord_date</th>\n",
       "      <th>Date</th>\n",
       "      <th>i am daTE shreedhar</th>\n",
       "      <th>...</th>\n",
       "      <th>date_with_date_type</th>\n",
       "      <th>date_with_date_type_2</th>\n",
       "      <th>x-y_z-date</th>\n",
       "      <th>my_x-y-date-is</th>\n",
       "      <th>temp_dates</th>\n",
       "      <th>temp_dates_2</th>\n",
       "      <th>temp_dates_3</th>\n",
       "      <th>temp_dates_4</th>\n",
       "      <th>temp_date_5</th>\n",
       "      <th>6_temp_date</th>\n",
       "    </tr>\n",
       "  </thead>\n",
       "  <tbody>\n",
       "    <tr>\n",
       "      <th>0</th>\n",
       "      <td>1</td>\n",
       "      <td>jay</td>\n",
       "      <td>14-10-2021</td>\n",
       "      <td>100</td>\n",
       "      <td>2022-13-12</td>\n",
       "      <td>2015-10-13</td>\n",
       "      <td>13-10-2002</td>\n",
       "      <td>1-13-2020</td>\n",
       "      <td>1-1-2020</td>\n",
       "      <td>1-1-2020</td>\n",
       "      <td>...</td>\n",
       "      <td>2024-09-13 12:28:36</td>\n",
       "      <td>2024-09-13 12:28:36.614943</td>\n",
       "      <td>None</td>\n",
       "      <td>None</td>\n",
       "      <td>12-13-24</td>\n",
       "      <td>12-13-2024</td>\n",
       "      <td>Friday, December 13, 2024</td>\n",
       "      <td>12-13-2024 12:28:37</td>\n",
       "      <td>13-10-2002</td>\n",
       "      <td>10-13-02</td>\n",
       "    </tr>\n",
       "    <tr>\n",
       "      <th>1</th>\n",
       "      <td>2</td>\n",
       "      <td>shree</td>\n",
       "      <td>13-2-2020</td>\n",
       "      <td>200</td>\n",
       "      <td>2021-10-11</td>\n",
       "      <td>2016-10-14</td>\n",
       "      <td>14-10-2002</td>\n",
       "      <td>12-10-2020</td>\n",
       "      <td>2-1-2020</td>\n",
       "      <td>None</td>\n",
       "      <td>...</td>\n",
       "      <td>2024-09-14 12:28:36</td>\n",
       "      <td>2024-09-14 12:28:36.614943</td>\n",
       "      <td>None</td>\n",
       "      <td>None</td>\n",
       "      <td>12-14-24</td>\n",
       "      <td>12-13-2024</td>\n",
       "      <td>Saturday, December 14, 2024</td>\n",
       "      <td>12-13-2024 12:28:38</td>\n",
       "      <td>14-10-2002</td>\n",
       "      <td>10-14-02</td>\n",
       "    </tr>\n",
       "    <tr>\n",
       "      <th>2</th>\n",
       "      <td>3</td>\n",
       "      <td>ram</td>\n",
       "      <td>1-10-2019</td>\n",
       "      <td>300</td>\n",
       "      <td>2020-1-1</td>\n",
       "      <td>2017-10-16</td>\n",
       "      <td>17-10-2002</td>\n",
       "      <td>5-10-2021</td>\n",
       "      <td>3-10-2020</td>\n",
       "      <td>2-1-2020</td>\n",
       "      <td>...</td>\n",
       "      <td>2024-09-15 12:28:36</td>\n",
       "      <td>2024-09-15 12:28:36.614943</td>\n",
       "      <td>None</td>\n",
       "      <td>None</td>\n",
       "      <td>12-15-24</td>\n",
       "      <td>12-13-2024</td>\n",
       "      <td>Sunday, December 15, 2024</td>\n",
       "      <td>12-13-2024 12:28:39</td>\n",
       "      <td>15-10-2002</td>\n",
       "      <td>10-15-02</td>\n",
       "    </tr>\n",
       "  </tbody>\n",
       "</table>\n",
       "<p>3 rows × 24 columns</p>\n",
       "</div>"
      ],
      "text/plain": [
       "   Ord ID customer name Purchase Date  Amount Return Date         DoJ  \\\n",
       "0       1           jay    14-10-2021     100  2022-13-12  2015-10-13   \n",
       "1       2         shree     13-2-2020     200  2021-10-11  2016-10-14   \n",
       "2       3           ram     1-10-2019     300    2020-1-1  2017-10-16   \n",
       "\n",
       "          doB    ord_date       Date i am daTE shreedhar  ...  \\\n",
       "0  13-10-2002   1-13-2020   1-1-2020            1-1-2020  ...   \n",
       "1  14-10-2002  12-10-2020   2-1-2020                None  ...   \n",
       "2  17-10-2002   5-10-2021  3-10-2020            2-1-2020  ...   \n",
       "\n",
       "   date_with_date_type       date_with_date_type_2 x-y_z-date my_x-y-date-is  \\\n",
       "0  2024-09-13 12:28:36  2024-09-13 12:28:36.614943       None           None   \n",
       "1  2024-09-14 12:28:36  2024-09-14 12:28:36.614943       None           None   \n",
       "2  2024-09-15 12:28:36  2024-09-15 12:28:36.614943       None           None   \n",
       "\n",
       "  temp_dates temp_dates_2                 temp_dates_3         temp_dates_4  \\\n",
       "0   12-13-24   12-13-2024    Friday, December 13, 2024  12-13-2024 12:28:37   \n",
       "1   12-14-24   12-13-2024  Saturday, December 14, 2024  12-13-2024 12:28:38   \n",
       "2   12-15-24   12-13-2024    Sunday, December 15, 2024  12-13-2024 12:28:39   \n",
       "\n",
       "  temp_date_5 6_temp_date  \n",
       "0  13-10-2002    10-13-02  \n",
       "1  14-10-2002    10-14-02  \n",
       "2  15-10-2002    10-15-02  \n",
       "\n",
       "[3 rows x 24 columns]"
      ]
     },
     "execution_count": 22,
     "metadata": {},
     "output_type": "execute_result"
    }
   ],
   "source": [
    "df"
   ]
  },
  {
   "cell_type": "code",
   "execution_count": 23,
   "id": "7251a21e",
   "metadata": {},
   "outputs": [
    {
     "data": {
      "text/plain": [
       "Ord ID                    int64\n",
       "customer name            object\n",
       "Purchase Date            object\n",
       "Amount                    int64\n",
       "Return Date              object\n",
       "DoJ                      object\n",
       "doB                      object\n",
       "ord_date                 object\n",
       "Date                     object\n",
       "i am daTE shreedhar      object\n",
       "dates                    object\n",
       "date's                   object\n",
       "date1                    object\n",
       "date_1                   object\n",
       "date_with_date_type      object\n",
       "date_with_date_type_2    object\n",
       "x-y_z-date               object\n",
       "my_x-y-date-is           object\n",
       "temp_dates               object\n",
       "temp_dates_2             object\n",
       "temp_dates_3             object\n",
       "temp_dates_4             object\n",
       "temp_date_5              object\n",
       "6_temp_date              object\n",
       "dtype: object"
      ]
     },
     "execution_count": 23,
     "metadata": {},
     "output_type": "execute_result"
    }
   ],
   "source": [
    "df.dtypes"
   ]
  },
  {
   "cell_type": "markdown",
   "id": "26df5382",
   "metadata": {},
   "source": [
    "# 4) Extracting date formats of each date column. Include 1st occurence format if particular date column follows more than 1 date format"
   ]
  },
  {
   "cell_type": "code",
   "execution_count": 24,
   "id": "995d44c3",
   "metadata": {},
   "outputs": [],
   "source": [
    "def find_date_format(date_str):\n",
    "    # Define a list of common date formats to check\n",
    "    possible_formats = [\n",
    "        '%d-%m-%Y',  # Day-Month-Year ⭐\n",
    "        '%m-%d-%Y',  # Month-Day-Year \n",
    "        '%Y-%m-%d',  # Year-Month-Day #By default pandas read and write \"date\" type column in this format....⭐\n",
    "        '%Y-%d-%m',  # year/day/month\n",
    "        \"%Y-%m-%d %H:%M:%S\",\n",
    "        \"%d-%m-%Y %H:%M:%S\",\n",
    "        \"%m-%d-%Y %H:%M:%S\",\n",
    "        \"%A, %B %d, %Y\",\n",
    "        '%m-%d-%y',\n",
    "        \"%Y-%m-%d %H:%M:%S.%f\",\n",
    "    ]\n",
    "    \n",
    "    #\"Year\" never comes in middle...in some scenario \"Day\" also not come in middle,,,,Majority times \"Month\" is there in middle\n",
    "    # \"d-m-y\" and \"y-m-d\" are most common\n",
    "    \n",
    "    # Try each format\n",
    "    for date_format in possible_formats:\n",
    "        try:\n",
    "            # If date_str can be parsed using the current format, return the format\n",
    "            datetime.strptime(date_str, date_format)\n",
    "            return date_format\n",
    "        except ValueError:\n",
    "            continue\n",
    "    \n",
    "    # If none of the formats work, return None\n",
    "    return None"
   ]
  },
  {
   "cell_type": "code",
   "execution_count": 25,
   "id": "93c5cd71",
   "metadata": {},
   "outputs": [
    {
     "data": {
      "text/plain": [
       "{}"
      ]
     },
     "execution_count": 25,
     "metadata": {},
     "output_type": "execute_result"
    }
   ],
   "source": [
    "column_with_their_first_non_null_occurence_date = dict()\n",
    "column_with_their_first_non_null_occurence_date"
   ]
  },
  {
   "cell_type": "code",
   "execution_count": 26,
   "id": "402d8102",
   "metadata": {},
   "outputs": [
    {
     "data": {
      "text/plain": [
       "{'Purchase Date': '14-10-2021',\n",
       " 'Return Date': '2022-13-12',\n",
       " 'DoJ': '2015-10-13',\n",
       " 'doB': '13-10-2002',\n",
       " 'ord_date': '1-13-2020',\n",
       " 'Date': '1-1-2020',\n",
       " 'i am daTE shreedhar': '1-1-2020',\n",
       " 'dates': '10-12-2002',\n",
       " \"date's\": '13-12-2002',\n",
       " 'date1': '10-12-2002',\n",
       " 'date_1': None,\n",
       " 'date_with_date_type': '2024-09-13 12:28:36',\n",
       " 'date_with_date_type_2': '2024-09-13 12:28:36.614943',\n",
       " 'x-y_z-date': None,\n",
       " 'my_x-y-date-is': None,\n",
       " 'temp_dates': '12-13-24',\n",
       " 'temp_dates_2': '12-13-2024',\n",
       " 'temp_dates_3': 'Friday, December 13, 2024',\n",
       " 'temp_dates_4': '12-13-2024 12:28:37',\n",
       " 'temp_date_5': '13-10-2002',\n",
       " '6_temp_date': '10-13-02'}"
      ]
     },
     "execution_count": 26,
     "metadata": {},
     "output_type": "execute_result"
    }
   ],
   "source": [
    "for date_col in all_date_columns:\n",
    "    if pd.isnull(df[date_col].iloc[0]) and len(df[date_col].value_counts().index) != 0:\n",
    "        column_with_their_first_non_null_occurence_date[date_col] = df[date_col].value_counts().index[0]\n",
    "    else:\n",
    "        column_with_their_first_non_null_occurence_date[date_col] = df[date_col].iloc[0]\n",
    "column_with_their_first_non_null_occurence_date"
   ]
  },
  {
   "cell_type": "code",
   "execution_count": 27,
   "id": "74ca7709",
   "metadata": {},
   "outputs": [
    {
     "data": {
      "text/plain": [
       "{}"
      ]
     },
     "execution_count": 27,
     "metadata": {},
     "output_type": "execute_result"
    }
   ],
   "source": [
    "column_with_their_first_occurence_date_format= dict()\n",
    "column_with_their_first_occurence_date_format"
   ]
  },
  {
   "cell_type": "code",
   "execution_count": 28,
   "id": "df569a26",
   "metadata": {},
   "outputs": [],
   "source": [
    "for col, date in column_with_their_first_non_null_occurence_date.items():\n",
    "    if not pd.isnull(date):\n",
    "        column_with_their_first_occurence_date_format[col] = find_date_format(date)\n",
    "    else:\n",
    "        column_with_their_first_occurence_date_format[col] = ''"
   ]
  },
  {
   "cell_type": "code",
   "execution_count": 29,
   "id": "060c38c5",
   "metadata": {},
   "outputs": [
    {
     "data": {
      "text/plain": [
       "{'Purchase Date': '%d-%m-%Y',\n",
       " 'Return Date': '%Y-%d-%m',\n",
       " 'DoJ': '%Y-%m-%d',\n",
       " 'doB': '%d-%m-%Y',\n",
       " 'ord_date': '%m-%d-%Y',\n",
       " 'Date': '%d-%m-%Y',\n",
       " 'i am daTE shreedhar': '%d-%m-%Y',\n",
       " 'dates': '%d-%m-%Y',\n",
       " \"date's\": '%d-%m-%Y',\n",
       " 'date1': '%d-%m-%Y',\n",
       " 'date_1': '',\n",
       " 'date_with_date_type': '%Y-%m-%d %H:%M:%S',\n",
       " 'date_with_date_type_2': '%Y-%m-%d %H:%M:%S.%f',\n",
       " 'x-y_z-date': '',\n",
       " 'my_x-y-date-is': '',\n",
       " 'temp_dates': '%m-%d-%y',\n",
       " 'temp_dates_2': '%m-%d-%Y',\n",
       " 'temp_dates_3': '%A, %B %d, %Y',\n",
       " 'temp_dates_4': '%m-%d-%Y %H:%M:%S',\n",
       " 'temp_date_5': '%d-%m-%Y',\n",
       " '6_temp_date': '%m-%d-%y'}"
      ]
     },
     "execution_count": 29,
     "metadata": {},
     "output_type": "execute_result"
    }
   ],
   "source": [
    "column_with_their_first_occurence_date_format"
   ]
  },
  {
   "cell_type": "markdown",
   "id": "85704764",
   "metadata": {},
   "source": [
    "# 5) Converting all date related columns to date_time type"
   ]
  },
  {
   "cell_type": "code",
   "execution_count": 30,
   "id": "621d37e9",
   "metadata": {},
   "outputs": [],
   "source": [
    "for col in all_date_columns:\n",
    "    df[col] = pd.to_datetime(df[col], format=column_with_their_first_occurence_date_format[col])"
   ]
  },
  {
   "cell_type": "code",
   "execution_count": 31,
   "id": "1c126353",
   "metadata": {},
   "outputs": [
    {
     "data": {
      "text/html": [
       "<div>\n",
       "<style scoped>\n",
       "    .dataframe tbody tr th:only-of-type {\n",
       "        vertical-align: middle;\n",
       "    }\n",
       "\n",
       "    .dataframe tbody tr th {\n",
       "        vertical-align: top;\n",
       "    }\n",
       "\n",
       "    .dataframe thead th {\n",
       "        text-align: right;\n",
       "    }\n",
       "</style>\n",
       "<table border=\"1\" class=\"dataframe\">\n",
       "  <thead>\n",
       "    <tr style=\"text-align: right;\">\n",
       "      <th></th>\n",
       "      <th>Ord ID</th>\n",
       "      <th>customer name</th>\n",
       "      <th>Purchase Date</th>\n",
       "      <th>Amount</th>\n",
       "      <th>Return Date</th>\n",
       "      <th>DoJ</th>\n",
       "      <th>doB</th>\n",
       "      <th>ord_date</th>\n",
       "      <th>Date</th>\n",
       "      <th>i am daTE shreedhar</th>\n",
       "      <th>...</th>\n",
       "      <th>date_with_date_type</th>\n",
       "      <th>date_with_date_type_2</th>\n",
       "      <th>x-y_z-date</th>\n",
       "      <th>my_x-y-date-is</th>\n",
       "      <th>temp_dates</th>\n",
       "      <th>temp_dates_2</th>\n",
       "      <th>temp_dates_3</th>\n",
       "      <th>temp_dates_4</th>\n",
       "      <th>temp_date_5</th>\n",
       "      <th>6_temp_date</th>\n",
       "    </tr>\n",
       "  </thead>\n",
       "  <tbody>\n",
       "    <tr>\n",
       "      <th>0</th>\n",
       "      <td>1</td>\n",
       "      <td>jay</td>\n",
       "      <td>2021-10-14</td>\n",
       "      <td>100</td>\n",
       "      <td>2022-12-13</td>\n",
       "      <td>2015-10-13</td>\n",
       "      <td>2002-10-13</td>\n",
       "      <td>2020-01-13</td>\n",
       "      <td>2020-01-01</td>\n",
       "      <td>2020-01-01</td>\n",
       "      <td>...</td>\n",
       "      <td>2024-09-13 12:28:36</td>\n",
       "      <td>2024-09-13 12:28:36.614943</td>\n",
       "      <td>NaT</td>\n",
       "      <td>NaT</td>\n",
       "      <td>2024-12-13</td>\n",
       "      <td>2024-12-13</td>\n",
       "      <td>2024-12-13</td>\n",
       "      <td>2024-12-13 12:28:37</td>\n",
       "      <td>2002-10-13</td>\n",
       "      <td>2002-10-13</td>\n",
       "    </tr>\n",
       "    <tr>\n",
       "      <th>1</th>\n",
       "      <td>2</td>\n",
       "      <td>shree</td>\n",
       "      <td>2020-02-13</td>\n",
       "      <td>200</td>\n",
       "      <td>2021-11-10</td>\n",
       "      <td>2016-10-14</td>\n",
       "      <td>2002-10-14</td>\n",
       "      <td>2020-12-10</td>\n",
       "      <td>2020-01-02</td>\n",
       "      <td>NaT</td>\n",
       "      <td>...</td>\n",
       "      <td>2024-09-14 12:28:36</td>\n",
       "      <td>2024-09-14 12:28:36.614943</td>\n",
       "      <td>NaT</td>\n",
       "      <td>NaT</td>\n",
       "      <td>2024-12-14</td>\n",
       "      <td>2024-12-13</td>\n",
       "      <td>2024-12-14</td>\n",
       "      <td>2024-12-13 12:28:38</td>\n",
       "      <td>2002-10-14</td>\n",
       "      <td>2002-10-14</td>\n",
       "    </tr>\n",
       "    <tr>\n",
       "      <th>2</th>\n",
       "      <td>3</td>\n",
       "      <td>ram</td>\n",
       "      <td>2019-10-01</td>\n",
       "      <td>300</td>\n",
       "      <td>2020-01-01</td>\n",
       "      <td>2017-10-16</td>\n",
       "      <td>2002-10-17</td>\n",
       "      <td>2021-05-10</td>\n",
       "      <td>2020-10-03</td>\n",
       "      <td>2020-01-02</td>\n",
       "      <td>...</td>\n",
       "      <td>2024-09-15 12:28:36</td>\n",
       "      <td>2024-09-15 12:28:36.614943</td>\n",
       "      <td>NaT</td>\n",
       "      <td>NaT</td>\n",
       "      <td>2024-12-15</td>\n",
       "      <td>2024-12-13</td>\n",
       "      <td>2024-12-15</td>\n",
       "      <td>2024-12-13 12:28:39</td>\n",
       "      <td>2002-10-15</td>\n",
       "      <td>2002-10-15</td>\n",
       "    </tr>\n",
       "  </tbody>\n",
       "</table>\n",
       "<p>3 rows × 24 columns</p>\n",
       "</div>"
      ],
      "text/plain": [
       "   Ord ID customer name Purchase Date  Amount Return Date        DoJ  \\\n",
       "0       1           jay    2021-10-14     100  2022-12-13 2015-10-13   \n",
       "1       2         shree    2020-02-13     200  2021-11-10 2016-10-14   \n",
       "2       3           ram    2019-10-01     300  2020-01-01 2017-10-16   \n",
       "\n",
       "         doB   ord_date       Date i am daTE shreedhar  ...  \\\n",
       "0 2002-10-13 2020-01-13 2020-01-01          2020-01-01  ...   \n",
       "1 2002-10-14 2020-12-10 2020-01-02                 NaT  ...   \n",
       "2 2002-10-17 2021-05-10 2020-10-03          2020-01-02  ...   \n",
       "\n",
       "  date_with_date_type      date_with_date_type_2 x-y_z-date my_x-y-date-is  \\\n",
       "0 2024-09-13 12:28:36 2024-09-13 12:28:36.614943        NaT            NaT   \n",
       "1 2024-09-14 12:28:36 2024-09-14 12:28:36.614943        NaT            NaT   \n",
       "2 2024-09-15 12:28:36 2024-09-15 12:28:36.614943        NaT            NaT   \n",
       "\n",
       "  temp_dates temp_dates_2 temp_dates_3        temp_dates_4 temp_date_5  \\\n",
       "0 2024-12-13   2024-12-13   2024-12-13 2024-12-13 12:28:37  2002-10-13   \n",
       "1 2024-12-14   2024-12-13   2024-12-14 2024-12-13 12:28:38  2002-10-14   \n",
       "2 2024-12-15   2024-12-13   2024-12-15 2024-12-13 12:28:39  2002-10-15   \n",
       "\n",
       "  6_temp_date  \n",
       "0  2002-10-13  \n",
       "1  2002-10-14  \n",
       "2  2002-10-15  \n",
       "\n",
       "[3 rows x 24 columns]"
      ]
     },
     "execution_count": 31,
     "metadata": {},
     "output_type": "execute_result"
    }
   ],
   "source": [
    "df\n",
    "# As u see when we type_cast date related column to date data_type then it will by-defaultly presented in YYYY-MM-DD format.."
   ]
  },
  {
   "cell_type": "code",
   "execution_count": 32,
   "id": "7b647539",
   "metadata": {},
   "outputs": [
    {
     "data": {
      "text/plain": [
       "Ord ID                            int64\n",
       "customer name                    object\n",
       "Purchase Date            datetime64[ns]\n",
       "Amount                            int64\n",
       "Return Date              datetime64[ns]\n",
       "DoJ                      datetime64[ns]\n",
       "doB                      datetime64[ns]\n",
       "ord_date                 datetime64[ns]\n",
       "Date                     datetime64[ns]\n",
       "i am daTE shreedhar      datetime64[ns]\n",
       "dates                    datetime64[ns]\n",
       "date's                   datetime64[ns]\n",
       "date1                    datetime64[ns]\n",
       "date_1                   datetime64[ns]\n",
       "date_with_date_type      datetime64[ns]\n",
       "date_with_date_type_2    datetime64[ns]\n",
       "x-y_z-date               datetime64[ns]\n",
       "my_x-y-date-is           datetime64[ns]\n",
       "temp_dates               datetime64[ns]\n",
       "temp_dates_2             datetime64[ns]\n",
       "temp_dates_3             datetime64[ns]\n",
       "temp_dates_4             datetime64[ns]\n",
       "temp_date_5              datetime64[ns]\n",
       "6_temp_date              datetime64[ns]\n",
       "dtype: object"
      ]
     },
     "execution_count": 32,
     "metadata": {},
     "output_type": "execute_result"
    }
   ],
   "source": [
    "df.dtypes"
   ]
  },
  {
   "cell_type": "code",
   "execution_count": 25,
   "id": "cf76f185",
   "metadata": {},
   "outputs": [
    {
     "data": {
      "text/plain": [
       "Index(['Ord ID', 'customer name', 'Purchase Date', 'Amount', 'Return Date',\n",
       "       'DoJ', 'doB', 'ord_date', 'Date', 'i am daTE shreedhar', 'dates',\n",
       "       'date's', 'date1', 'date_1', 'date_with_date_type',\n",
       "       'date_with_date_type_2', 'x-y_z-date', 'my_x-y-date-is', 'temp_dates',\n",
       "       'temp_dates_2', 'temp_dates_3', 'temp_dates_4', 'temp_date_5',\n",
       "       '6_temp_date'],\n",
       "      dtype='object')"
      ]
     },
     "execution_count": 25,
     "metadata": {},
     "output_type": "execute_result"
    }
   ],
   "source": [
    "df.columns"
   ]
  },
  {
   "cell_type": "markdown",
   "id": "25a44ec6",
   "metadata": {},
   "source": [
    "# 6) Now you can give above dataframe to redaction function then it will return you redacted version of input dataframe, then you can impute the captured date formats for each date related column and bydefaulty after imputing formats all date related columns are converted to STRING/Object and now you can export it into excel or csv,,formats are not going to changed ,,bcz date related columns are in str type,,otherwise formats are not going to retained"
   ]
  },
  {
   "cell_type": "code",
   "execution_count": null,
   "id": "382403dd",
   "metadata": {},
   "outputs": [],
   "source": []
  },
  {
   "cell_type": "code",
   "execution_count": null,
   "id": "d2e2703e",
   "metadata": {},
   "outputs": [],
   "source": []
  },
  {
   "cell_type": "code",
   "execution_count": null,
   "id": "b78a6a5c",
   "metadata": {},
   "outputs": [],
   "source": []
  },
  {
   "cell_type": "markdown",
   "id": "5f0c96e7",
   "metadata": {},
   "source": [
    "# How openpyxl works"
   ]
  },
  {
   "cell_type": "markdown",
   "id": "b4dd4043",
   "metadata": {},
   "source": [
    "1. Load the workbook and select the worksheet:\n",
    "python\n",
    "Copy code\n",
    "file_path = 'data.xlsx'\n",
    "wb = load_workbook(file_path, data_only=True)\n",
    "ws = wb.active\n",
    "file_path: Specifies the path to the Excel file.\n",
    "load_workbook(file_path, data_only=True): Loads the Excel workbook using openpyxl. The data_only=True argument ensures that the values returned are those stored in the cells, not the formulas.\n",
    "wb.active: Selects the currently active worksheet from the workbook (ws represents the active sheet).\n",
    "2. Create an empty dictionary to hold the data:\n",
    "python\n",
    "Copy code\n",
    "data = {}\n",
    "data: Initializes an empty dictionary where each key will correspond to a column header, and the values will be lists holding the column’s data.\n",
    "3. Fetch the headers:\n",
    "python\n",
    "Copy code\n",
    "for cell in ws[1]:\n",
    "    data[cell.value] = []\n",
    "ws[1]: Refers to the first row in the worksheet, which usually contains the headers (column names).\n",
    "The loop iterates through each cell in the first row, extracts its value (the header), and creates an empty list for each header in the data dictionary.\n",
    "4. Initialize a dictionary to store date formats for columns:\n",
    "python\n",
    "Copy code\n",
    "date_formats = {}\n",
    "date_formats: Creates an empty dictionary that will store the format of each column. The key is the column header, and the value is the date format if the column contains dates.\n",
    "5. Iterate over columns to find the first non-null value in each:\n",
    "python\n",
    "Copy code\n",
    "for col in ws.iter_cols(min_row=2, values_only=False):\n",
    "ws.iter_cols(min_row=2, values_only=False): Iterates through all the columns, starting from the second row (min_row=2) to skip the header row. The values_only=False parameter allows access to the entire cell object, not just its value, so that date formats can be inspected.\n",
    "6. For each column, fetch the header and check for the first non-null cell:\n",
    "python\n",
    "Copy code\n",
    "header = ws.cell(row=1, column=col[0].column).value  # Get the column header\n",
    "ws.cell(row=1, column=col[0].column).value: Retrieves the value of the first row in the current column (which is the header).\n",
    "python\n",
    "Copy code\n",
    "for cell in col:\n",
    "    if cell.value is not None:  # Check for the first non-null cell\n",
    "Loops through all the cells in the current column.\n",
    "cell.value is not None: Skips empty cells and processes the first non-empty one.\n",
    "7. Check if the first non-null cell is a date:\n",
    "python\n",
    "Copy code\n",
    "if cell.is_date:\n",
    "    date_formats[header] = cell.number_format  # Store date format\n",
    "else:\n",
    "    date_formats[header] = None  # No special format for non-date columns\n",
    "cell.is_date: This checks if the cell contains a date value.\n",
    "If the cell is a date, the code retrieves its format (cell.number_format) and stores it in the date_formats dictionary, where the key is the column header.\n",
    "If the cell is not a date, None is assigned as the format.\n",
    "python\n",
    "Copy code\n",
    "break  # Stop after finding the first non-null value\n",
    "Breaks out of the loop once the first non-null cell is found, as we are only interested in identifying the format based on the first valid entry.\n",
    "8. Fetch the data for all rows without applying formats to the DataFrame:\n",
    "python\n",
    "Copy code\n",
    "for row in ws.iter_rows(min_row=2, values_only=False):\n",
    "ws.iter_rows(min_row=2, values_only=False): Iterates through all rows starting from the second row (to skip the header), retrieving the entire cell object instead of just its value.\n",
    "python\n",
    "Copy code\n",
    "for cell in row:\n",
    "    header = ws.cell(row=1, column=cell.column).value\n",
    "    data[header].append(cell.value)\n",
    "For each cell in the row, the code retrieves its corresponding header (from the first row) and appends the cell's value to the appropriate list in the data dictionary.\n",
    "9. Convert the dictionary to a pandas DataFrame:\n",
    "python\n",
    "Copy code\n",
    "df = pd.DataFrame(data)\n",
    "Converts the data dictionary into a pandas DataFrame, where each key in the dictionary becomes a column in the DataFrame, and the values (lists) become the column's data.\n",
    "10. Print the stored date formats:\n",
    "python\n",
    "Copy code\n",
    "print(\"Date columns and their formats:\", date_formats)\n",
    "Displays the date formats stored in the date_formats dictionary, showing which columns contain dates and their respective formats.\n",
    "Summary:\n",
    "The code loads an Excel file and iterates over its cells to detect date columns and their formats.\n",
    "It dynamically builds a date_formats dictionary to store the formats of the date columns.\n",
    "It populates a data dictionary with values from the worksheet and then converts it to a pandas DataFrame."
   ]
  },
  {
   "cell_type": "markdown",
   "id": "344c502c",
   "metadata": {},
   "source": [
    "### datetime.strptime() and datetime.strftime()"
   ]
  },
  {
   "cell_type": "markdown",
   "id": "d0f263e9",
   "metadata": {},
   "source": [
    "# String to datetime\n",
    "1. **strptime (String Parse Time)**\n",
    "- Purpose: Converts a string representation of a date/time into a datetime object.\n",
    "- Usage: Used when you have a date/time string and want to convert it into a datetime object by specifying the format.\n",
    "- Example:\n",
    "- from datetime import datetime\n",
    "\n",
    "\n",
    "- date_str = \"13-09-2024\"\n",
    "- date_obj = datetime.strptime(date_str, \"%d-%m-%Y\")\n",
    "- print(date_obj)  # Output: 2024-09-13 00:00:00\n",
    "- **As u see, YYYY-MM-DD is hardcore behavior when you typecast date value to datetime type**\n",
    "\n",
    "\n",
    "# Datetime to string\n",
    "\n",
    "2. **strftime (String Format Time)**\n",
    "- Purpose: Converts a datetime object into a formatted string.\n",
    "- Usage: Used when you have a datetime object and want to represent it as a string in a specific format.\n",
    "- Example:\n",
    "\n",
    "- from datetime import datetime\n",
    "\n",
    "\n",
    "- date_obj = datetime(2024, 9, 13)\n",
    "- date_str = date_obj.strftime(\"%d-%m-%Y\")\n",
    "- print(date_str)  # Output: 13-09-2024\n",
    "\n",
    "\n",
    "- Summary:\n",
    "- strptime: Parses a date string into a datetime object.\n",
    "- strftime: Formats a datetime object into a string."
   ]
  },
  {
   "cell_type": "code",
   "execution_count": null,
   "id": "5ae106d1",
   "metadata": {},
   "outputs": [],
   "source": []
  }
 ],
 "metadata": {
  "kernelspec": {
   "display_name": "Python 3 (ipykernel)",
   "language": "python",
   "name": "python3"
  },
  "language_info": {
   "codemirror_mode": {
    "name": "ipython",
    "version": 3
   },
   "file_extension": ".py",
   "mimetype": "text/x-python",
   "name": "python",
   "nbconvert_exporter": "python",
   "pygments_lexer": "ipython3",
   "version": "3.11.4"
  }
 },
 "nbformat": 4,
 "nbformat_minor": 5
}
